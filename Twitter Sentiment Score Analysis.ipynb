{
 "cells": [
  {
   "cell_type": "code",
   "execution_count": 3,
   "metadata": {},
   "outputs": [
    {
     "name": "stdout",
     "output_type": "stream",
     "text": [
      "Collecting tweepy\n",
      "  Downloading https://files.pythonhosted.org/packages/d5/5f/daac4b4e9b30d7d2a6fdd16a880ff79f27918fe388e4dfc1983dec3a9876/tweepy-3.7.0-py2.py3-none-any.whl\n",
      "Requirement already satisfied: requests>=2.11.1 in c:\\users\\nishant\\anaconda2\\envs\\py36\\lib\\site-packages (from tweepy) (2.21.0)\n",
      "Collecting requests-oauthlib>=0.7.0 (from tweepy)\n",
      "  Downloading https://files.pythonhosted.org/packages/c2/e2/9fd03d55ffb70fe51f587f20bcf407a6927eb121de86928b34d162f0b1ac/requests_oauthlib-1.2.0-py2.py3-none-any.whl\n",
      "Requirement already satisfied: PySocks>=1.5.7 in c:\\users\\nishant\\anaconda2\\envs\\py36\\lib\\site-packages (from tweepy) (1.6.8)\n",
      "Requirement already satisfied: six>=1.10.0 in c:\\users\\nishant\\anaconda2\\envs\\py36\\lib\\site-packages (from tweepy) (1.12.0)\n",
      "Requirement already satisfied: chardet<3.1.0,>=3.0.2 in c:\\users\\nishant\\anaconda2\\envs\\py36\\lib\\site-packages (from requests>=2.11.1->tweepy) (3.0.4)\n",
      "Requirement already satisfied: idna<2.9,>=2.5 in c:\\users\\nishant\\anaconda2\\envs\\py36\\lib\\site-packages (from requests>=2.11.1->tweepy) (2.8)\n",
      "Requirement already satisfied: urllib3<1.25,>=1.21.1 in c:\\users\\nishant\\anaconda2\\envs\\py36\\lib\\site-packages (from requests>=2.11.1->tweepy) (1.24.1)\n",
      "Requirement already satisfied: certifi>=2017.4.17 in c:\\users\\nishant\\anaconda2\\envs\\py36\\lib\\site-packages (from requests>=2.11.1->tweepy) (2019.3.9)\n",
      "Collecting oauthlib>=3.0.0 (from requests-oauthlib>=0.7.0->tweepy)\n",
      "  Downloading https://files.pythonhosted.org/packages/16/95/699466b05b72b94a41f662dc9edf87fda4289e3602ecd42d27fcaddf7b56/oauthlib-3.0.1-py2.py3-none-any.whl (142kB)\n",
      "Installing collected packages: oauthlib, requests-oauthlib, tweepy\n",
      "Successfully installed oauthlib-3.0.1 requests-oauthlib-1.2.0 tweepy-3.7.0\n"
     ]
    }
   ],
   "source": [
    "!pip install tweepy"
   ]
  },
  {
   "cell_type": "code",
   "execution_count": 5,
   "metadata": {},
   "outputs": [
    {
     "name": "stdout",
     "output_type": "stream",
     "text": [
      "Collecting textblob\n",
      "  Downloading https://files.pythonhosted.org/packages/60/f0/1d9bfcc8ee6b83472ec571406bd0dd51c0e6330ff1a51b2d29861d389e85/textblob-0.15.3-py2.py3-none-any.whl (636kB)\n",
      "Requirement already satisfied, skipping upgrade: nltk>=3.1 in c:\\users\\nishant\\anaconda2\\envs\\py36\\lib\\site-packages (from textblob) (3.4)\n",
      "Requirement already satisfied, skipping upgrade: six in c:\\users\\nishant\\anaconda2\\envs\\py36\\lib\\site-packages (from nltk>=3.1->textblob) (1.12.0)\n",
      "Requirement already satisfied, skipping upgrade: singledispatch in c:\\users\\nishant\\anaconda2\\envs\\py36\\lib\\site-packages (from nltk>=3.1->textblob) (3.4.0.3)\n",
      "Installing collected packages: textblob\n",
      "Successfully installed textblob-0.15.3\n",
      "Note: you may need to restart the kernel to use updated packages.\n"
     ]
    }
   ],
   "source": [
    "pip install -U textblob"
   ]
  },
  {
   "cell_type": "code",
   "execution_count": 6,
   "metadata": {},
   "outputs": [],
   "source": [
    "import tweepy\n",
    "from textblob import TextBlob"
   ]
  },
  {
   "cell_type": "code",
   "execution_count": 7,
   "metadata": {},
   "outputs": [],
   "source": [
    "consumer_key = 'XXXX'\n",
    "consumer_key_secret = 'XXXX'\n",
    "\n",
    "access_token = 'XXXX'\n",
    "access_token_secret = 'XXXX'\n",
    "\n",
    "auth = tweepy.OAuthHandler(consumer_key, consumer_key_secret)\n",
    "\n",
    "auth.set_access_token(access_token, access_token_secret)\n",
    "\n",
    "api = tweepy.API(auth)"
   ]
  },
  {
   "cell_type": "code",
   "execution_count": 10,
   "metadata": {},
   "outputs": [
    {
     "name": "stdout",
     "output_type": "stream",
     "text": [
      "RT @gup78282900: भारत में चल रहा दुनिया का सबसे बड़ा और नियोजित शहरीकरण कार्यक्रम\n",
      "https://t.co/Tbe0NUNRSo via NaMo App https://t.co/UUTviwB…\n",
      "Sentiment(polarity=0.0, subjectivity=0.0)\n",
      "Negative\n",
      "\n",
      "Congress insulted voters by questioning BJP's massive win: PM Modi in Rajya Sabha\n",
      "https://t.co/VeHEfAr9J8\n",
      "\n",
      "via NaMo… https://t.co/akCHFxjea8\n",
      "Sentiment(polarity=0.4, subjectivity=0.7)\n",
      "Positive\n",
      "\n",
      "If the Congress loses, does the country get defeated: PM Modi slams Congress' \"arrogance\"\n",
      "https://t.co/9tqWj63fX7… https://t.co/4e0DeIFNKD\n",
      "Sentiment(polarity=-0.3, subjectivity=0.1)\n",
      "Negative\n",
      "\n",
      "@jrabinsaaaay namo hmp HAHAHHAHAHA SALAMAT JUNIOR\n",
      "Sentiment(polarity=0.0, subjectivity=0.0)\n",
      "Negative\n",
      "\n",
      "ywaa gyud kaayo namo ni murphy og ivan oy haha\n",
      "Sentiment(polarity=0.2, subjectivity=0.3)\n",
      "Positive\n",
      "\n",
      "‘Did India lose in Amethi, Wayanad?’: PM targets Congress’ arrogance\n",
      "https://t.co/ozV3jTHE52\n",
      "\n",
      "via NaMo App https://t.co/bzqlpyxrWo\n",
      "Sentiment(polarity=0.0, subjectivity=0.0)\n",
      "Negative\n",
      "\n",
      "Will reinforce support for reformed multilateralism at G20: PM Modi\n",
      "https://t.co/BBscFtYsTG\n",
      "\n",
      "via NaMo App https://t.co/7I6kO5DLsZ\n",
      "Sentiment(polarity=0.0, subjectivity=0.0)\n",
      "Negative\n",
      "\n",
      "@AvesBudz HAHAHAHAHAH!! Oo gilibak ka namo sa klase 😜\n",
      "Sentiment(polarity=0.0, subjectivity=0.0)\n",
      "Negative\n",
      "\n",
      "India's candidature for UNSC non-permanent seat for two-year term endorsed by Asia Pacific group… https://t.co/VCRrCVTdA0\n",
      "Sentiment(polarity=0.0, subjectivity=0.0)\n",
      "Negative\n",
      "\n",
      "PM Modi accorded warm welcome by Indian community in Japan\n",
      "https://t.co/baoa5ocgAt\n",
      "\n",
      "via NaMo App https://t.co/5FJ1NiiW6Y\n",
      "Sentiment(polarity=0.7, subjectivity=0.75)\n",
      "Positive\n",
      "\n",
      "From cars to bullet trains, India-Japan ties have become stronger: PM Narendra Modi in Kobe\n",
      "https://t.co/7iZm98BJmX… https://t.co/jT6cFfjR8j\n",
      "Sentiment(polarity=0.0, subjectivity=0.0)\n",
      "Negative\n",
      "\n",
      "PM invokes Gandhiji's three wise monkeys to underline strong India-Japan ties\n",
      "https://t.co/94ifiyAx3p\n",
      "\n",
      "via NaMo App https://t.co/kC1F4wcdW0\n",
      "Sentiment(polarity=0.5666666666666667, subjectivity=0.8166666666666667)\n",
      "Positive\n",
      "\n",
      "Will launch Chandrayaan-2, Gaganyaan and unfurl Indian flag in space soon, says PM Modi\n",
      "https://t.co/8Wwp27PB83\n",
      "\n",
      "vi… https://t.co/ZuEJ8UrbP3\n",
      "Sentiment(polarity=0.0, subjectivity=0.0)\n",
      "Negative\n",
      "\n"
     ]
    }
   ],
   "source": [
    "public_tweets = api.search('Namo')\n",
    "\n",
    "for tweet in public_tweets:\n",
    "    print(tweet.text)\n",
    "    analysis = TextBlob(tweet.text)\n",
    "    print(analysis.sentiment)\n",
    "    if analysis.sentiment[0]>0:\n",
    "        print ('Positive')\n",
    "    else:\n",
    "        print ('Negative')\n",
    "    print(\"\")"
   ]
  },
  {
   "cell_type": "code",
   "execution_count": null,
   "metadata": {},
   "outputs": [],
   "source": []
  }
 ],
 "metadata": {
  "kernelspec": {
   "display_name": "Python 3",
   "language": "python",
   "name": "python3"
  },
  "language_info": {
   "codemirror_mode": {
    "name": "ipython",
    "version": 3
   },
   "file_extension": ".py",
   "mimetype": "text/x-python",
   "name": "python",
   "nbconvert_exporter": "python",
   "pygments_lexer": "ipython3",
   "version": "3.6.8"
  }
 },
 "nbformat": 4,
 "nbformat_minor": 2
}
